{
  "nbformat": 4,
  "nbformat_minor": 0,
  "metadata": {
    "colab": {
      "name": "breastcancer detection-knn classifier",
      "provenance": []
    },
    "kernelspec": {
      "name": "python3",
      "display_name": "Python 3"
    },
    "language_info": {
      "name": "python"
    }
  },
  "cells": [
    {
      "cell_type": "code",
      "metadata": {
        "id": "G0l5DB2SCfpk"
      },
      "source": [
        "import numpy as np\n",
        "import pandas as pd\n",
        "from sklearn.datasets import load_breast_cancer\n",
        "from sklearn.model_selection import train_test_split\n",
        "\n",
        "cancer = load_breast_cancer()\n",
        "print(cancer.DESCR)"
      ],
      "execution_count": null,
      "outputs": []
    },
    {
      "cell_type": "markdown",
      "metadata": {
        "id": "o2piypHBCwkc"
      },
      "source": [
        ""
      ]
    },
    {
      "cell_type": "code",
      "metadata": {
        "id": "DPduUoR5DCNN"
      },
      "source": [
        "len(cancer['feature_names'])\n"
      ],
      "execution_count": null,
      "outputs": []
    },
    {
      "cell_type": "code",
      "metadata": {
        "id": "s-g6vvW0DKPN"
      },
      "source": [
        "df = pd.DataFrame(data=cancer['data'], columns=cancer['feature_names'])\n",
        "df['target'] = cancer['target']\n",
        "df"
      ],
      "execution_count": null,
      "outputs": []
    },
    {
      "cell_type": "code",
      "metadata": {
        "colab": {
          "base_uri": "https://localhost:8080/"
        },
        "id": "gaoWk7vhEdQv",
        "outputId": "dfb59b64-fa33-4a3d-c1f4-0d5a2017828e"
      },
      "source": [
        "cancerdf = df\n",
        "    \n",
        "malignant = (cancerdf['target']==0).sum()\n",
        "benign = (cancerdf['target']==1).sum()\n",
        "ans = [malignant, benign]\n",
        "ans"
      ],
      "execution_count": 52,
      "outputs": [
        {
          "output_type": "execute_result",
          "data": {
            "text/plain": [
              "[212, 357]"
            ]
          },
          "metadata": {},
          "execution_count": 52
        }
      ]
    },
    {
      "cell_type": "code",
      "metadata": {
        "colab": {
          "base_uri": "https://localhost:8080/"
        },
        "id": "zdSOLMDCFCvI",
        "outputId": "a1763905-7332-4b86-e54f-11e59f9ac858"
      },
      "source": [
        "cancerdf = df\n",
        "    \n",
        "X = cancerdf.drop('target', axis=1)\n",
        "y = cancerdf.get('target')\n",
        "    \n",
        "X, y\n"
      ],
      "execution_count": 53,
      "outputs": [
        {
          "output_type": "execute_result",
          "data": {
            "text/plain": [
              "(     mean radius  mean texture  ...  worst symmetry  worst fractal dimension\n",
              " 0          17.99         10.38  ...          0.4601                  0.11890\n",
              " 1          20.57         17.77  ...          0.2750                  0.08902\n",
              " 2          19.69         21.25  ...          0.3613                  0.08758\n",
              " 3          11.42         20.38  ...          0.6638                  0.17300\n",
              " 4          20.29         14.34  ...          0.2364                  0.07678\n",
              " ..           ...           ...  ...             ...                      ...\n",
              " 564        21.56         22.39  ...          0.2060                  0.07115\n",
              " 565        20.13         28.25  ...          0.2572                  0.06637\n",
              " 566        16.60         28.08  ...          0.2218                  0.07820\n",
              " 567        20.60         29.33  ...          0.4087                  0.12400\n",
              " 568         7.76         24.54  ...          0.2871                  0.07039\n",
              " \n",
              " [569 rows x 30 columns], 0      0\n",
              " 1      0\n",
              " 2      0\n",
              " 3      0\n",
              " 4      0\n",
              "       ..\n",
              " 564    0\n",
              " 565    0\n",
              " 566    0\n",
              " 567    0\n",
              " 568    1\n",
              " Name: target, Length: 569, dtype: int64)"
            ]
          },
          "metadata": {},
          "execution_count": 53
        }
      ]
    },
    {
      "cell_type": "code",
      "metadata": {
        "colab": {
          "base_uri": "https://localhost:8080/"
        },
        "id": "bAKLrFbQFUTF",
        "outputId": "989b63d7-6404-48e3-c653-a81b0e30c5ba"
      },
      "source": [
        "from sklearn.model_selection import train_test_split\n",
        "\n",
        "def trts():\n",
        "    \n",
        "    \n",
        "    X_train, X_test, y_train, y_test = train_test_split(X, y, test_size=0.25 , random_state=0)\n",
        "    \n",
        "    return X_train, X_test, y_train, y_test\n",
        "trts()    "
      ],
      "execution_count": 54,
      "outputs": [
        {
          "output_type": "execute_result",
          "data": {
            "text/plain": [
              "(     mean radius  mean texture  ...  worst symmetry  worst fractal dimension\n",
              " 293       11.850         17.46  ...          0.3101                  0.07007\n",
              " 332       11.220         19.86  ...          0.3292                  0.06522\n",
              " 565       20.130         28.25  ...          0.2572                  0.06637\n",
              " 278       13.590         17.84  ...          0.2335                  0.06263\n",
              " 489       16.690         20.20  ...          0.4677                  0.07623\n",
              " ..           ...           ...  ...             ...                      ...\n",
              " 277       18.810         19.98  ...          0.2567                  0.05737\n",
              " 9         12.460         24.04  ...          0.4366                  0.20750\n",
              " 359        9.436         18.32  ...          0.2454                  0.08136\n",
              " 192        9.720         18.22  ...          0.1909                  0.06559\n",
              " 559       11.510         23.93  ...          0.2112                  0.08732\n",
              " \n",
              " [426 rows x 30 columns],\n",
              "      mean radius  mean texture  ...  worst symmetry  worst fractal dimension\n",
              " 512        13.40         20.52  ...          0.3585                  0.11090\n",
              " 457        13.21         25.25  ...          0.2444                  0.06788\n",
              " 439        14.02         15.66  ...          0.2136                  0.06710\n",
              " 298        14.26         18.17  ...          0.2636                  0.07676\n",
              " 37         13.03         18.42  ...          0.1987                  0.06169\n",
              " ..           ...           ...  ...             ...                      ...\n",
              " 236        23.21         26.97  ...          0.3103                  0.08677\n",
              " 113        10.51         20.19  ...          0.2383                  0.09026\n",
              " 527        12.34         12.27  ...          0.3110                  0.07592\n",
              " 76         13.53         10.94  ...          0.2710                  0.07191\n",
              " 162        19.59         18.15  ...          0.3643                  0.09223\n",
              " \n",
              " [143 rows x 30 columns],\n",
              " 293    1\n",
              " 332    1\n",
              " 565    0\n",
              " 278    1\n",
              " 489    0\n",
              "       ..\n",
              " 277    0\n",
              " 9      0\n",
              " 359    1\n",
              " 192    1\n",
              " 559    1\n",
              " Name: target, Length: 426, dtype: int64,\n",
              " 512    0\n",
              " 457    1\n",
              " 439    1\n",
              " 298    1\n",
              " 37     1\n",
              "       ..\n",
              " 236    0\n",
              " 113    1\n",
              " 527    1\n",
              " 76     1\n",
              " 162    0\n",
              " Name: target, Length: 143, dtype: int64)"
            ]
          },
          "metadata": {},
          "execution_count": 54
        }
      ]
    },
    {
      "cell_type": "code",
      "metadata": {
        "colab": {
          "base_uri": "https://localhost:8080/"
        },
        "id": "q2ghfuK2F1pj",
        "outputId": "da1ff59a-9bcb-4cff-9c3b-43747293710c"
      },
      "source": [
        "from sklearn.neighbors import KNeighborsClassifier\n",
        "\n",
        "def classifier():\n",
        "    X_train, X_test, y_train, y_test = trts()\n",
        "    \n",
        "    \n",
        "    knn = KNeighborsClassifier(n_neighbors = 1)\n",
        "    knn.fit(X_train, y_train)\n",
        "    knn.score(X_test, y_test)\n",
        "    \n",
        "    \n",
        "    return knn\n",
        "classifier()"
      ],
      "execution_count": 55,
      "outputs": [
        {
          "output_type": "execute_result",
          "data": {
            "text/plain": [
              "KNeighborsClassifier(algorithm='auto', leaf_size=30, metric='minkowski',\n",
              "                     metric_params=None, n_jobs=None, n_neighbors=1, p=2,\n",
              "                     weights='uniform')"
            ]
          },
          "metadata": {},
          "execution_count": 55
        }
      ]
    },
    {
      "cell_type": "code",
      "metadata": {
        "colab": {
          "base_uri": "https://localhost:8080/"
        },
        "id": "Aly7HQMTGhVZ",
        "outputId": "4a6f3a66-ba6c-4e96-aaa4-c62a37aa40a3"
      },
      "source": [
        "def testpredict():\n",
        "    X_train, X_test, y_train, y_test = trts()\n",
        "    knn = classifier()\n",
        "    \n",
        "   \n",
        "    test_prediction = knn.predict(X_test)\n",
        "    \n",
        "    return test_prediction\n",
        "testpredict()"
      ],
      "execution_count": 56,
      "outputs": [
        {
          "output_type": "execute_result",
          "data": {
            "text/plain": [
              "array([1, 1, 1, 0, 1, 1, 1, 1, 1, 1, 0, 1, 1, 1, 0, 0, 1, 0, 0, 0, 0, 1,\n",
              "       1, 1, 0, 1, 1, 1, 1, 0, 1, 0, 1, 0, 1, 0, 1, 0, 1, 0, 0, 1, 0, 1,\n",
              "       0, 0, 1, 1, 1, 0, 0, 1, 0, 1, 1, 1, 1, 1, 1, 0, 0, 0, 1, 1, 0, 1,\n",
              "       0, 0, 0, 1, 1, 0, 1, 1, 0, 1, 1, 1, 1, 1, 0, 0, 0, 1, 0, 1, 1, 1,\n",
              "       0, 0, 1, 0, 1, 0, 1, 1, 0, 1, 1, 1, 1, 1, 1, 1, 0, 1, 0, 1, 0, 1,\n",
              "       1, 0, 0, 1, 1, 1, 0, 1, 1, 1, 1, 1, 1, 1, 0, 1, 1, 1, 1, 1, 0, 1,\n",
              "       1, 1, 1, 1, 1, 0, 0, 1, 1, 1, 0])"
            ]
          },
          "metadata": {},
          "execution_count": 56
        }
      ]
    },
    {
      "cell_type": "code",
      "metadata": {
        "colab": {
          "base_uri": "https://localhost:8080/"
        },
        "id": "2ABurMRnHuhX",
        "outputId": "462fee45-e348-42f1-811f-146e8cb8a7d7"
      },
      "source": [
        "def acc():\n",
        "    X_train, X_test, y_train, y_test = trts()\n",
        "    knn = classifier()\n",
        "    \n",
        "   \n",
        "    score = knn.score(X_test, y_test)\n",
        "    print(\"Accuaracy: \" + str(score))\n",
        "acc()"
      ],
      "execution_count": 57,
      "outputs": [
        {
          "output_type": "stream",
          "name": "stdout",
          "text": [
            "Accuaracy: 0.916083916083916\n"
          ]
        }
      ]
    }
  ]
}